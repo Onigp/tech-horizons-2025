{
  "nbformat": 4,
  "nbformat_minor": 0,
  "metadata": {
    "colab": {
      "provenance": []
    },
    "kernelspec": {
      "name": "python3",
      "display_name": "Python 3"
    },
    "language_info": {
      "name": "python"
    }
  },
  "cells": [
    {
      "cell_type": "code",
      "execution_count": 3,
      "metadata": {
        "id": "k5lK3-tfyaZr",
        "colab": {
          "base_uri": "https://localhost:8080/"
        },
        "outputId": "feeb6884-882d-4402-e0c7-546322e7067d"
      },
      "outputs": [
        {
          "output_type": "stream",
          "name": "stdout",
          "text": [
            "Ana\n",
            "16\n",
            "9.5\n",
            "None\n",
            "N/A\n"
          ]
        }
      ],
      "source": [
        "estudiante = {\n",
        "    \"nombre\": \"Ana\",\n",
        "    \"edad\": 16,\n",
        "    \"promedio\": 9.5\n",
        "}\n",
        "\n",
        "# Acceso con corchetes\n",
        "print(estudiante[\"nombre\"]) # Ana\n",
        "print(estudiante[\"edad\"]) # 16\n",
        "\n",
        "# Acceso con get() - más seguro\n",
        "print(estudiante.get(\"promedio\")) # 9.5\n",
        "print(estudiante.get(\"telefono\")) # None\n",
        "print(estudiante.get(\"telefono\", \"N/A\")) # N/A"
      ]
    },
    {
      "cell_type": "code",
      "source": [
        "estudiante = {\"nombre\": \"Ana\", \"edad\": 16}\n",
        "\n",
        "# Agregar nueva clave\n",
        "estudiante[\"promedio\"] = 9.5\n",
        "estudiante[\"materias\"] = [\"Matemáticas\", \"Física\"]\n",
        "estudiante[\"grado\"] = \"10mo\"\n",
        "\n",
        "# Modificar valor existente\n",
        "estudiante[\"edad\"] = 17\n",
        "\n",
        "# Eliminar una clave\n",
        "del estudiante[\"promedio\"]\n",
        "\n",
        "print(estudiante)\n",
        "# {'nombre': 'Ana', 'edad': 17, 'materias': [...]}"
      ],
      "metadata": {
        "colab": {
          "base_uri": "https://localhost:8080/"
        },
        "id": "R3tOHfBB3rn1",
        "outputId": "949bda58-71cb-42c3-80bd-5a4253a882db"
      },
      "execution_count": 4,
      "outputs": [
        {
          "output_type": "stream",
          "name": "stdout",
          "text": [
            "{'nombre': 'Ana', 'edad': 17, 'materias': ['Matemáticas', 'Física'], 'grado': '10mo'}\n"
          ]
        }
      ]
    },
    {
      "cell_type": "code",
      "source": [
        "estudiante[\"materias\"] = [\"Educacion Fisica\", \"Español\"]\n",
        "print(estudiante[\"materias\"])\n",
        "print(estudiante)"
      ],
      "metadata": {
        "colab": {
          "base_uri": "https://localhost:8080/"
        },
        "id": "kaHp8oFq4Jeg",
        "outputId": "2129dc88-ed07-4464-d7ea-bf904545c5cc"
      },
      "execution_count": 6,
      "outputs": [
        {
          "output_type": "stream",
          "name": "stdout",
          "text": [
            "['Educacion Fisica', 'Español']\n",
            "{'nombre': 'Ana', 'edad': 17, 'materias': ['Educacion Fisica', 'Español'], 'grado': '10mo'}\n"
          ]
        }
      ]
    },
    {
      "cell_type": "code",
      "source": [
        "del estudiante[\"grado\"]\n",
        "print(estudiante)"
      ],
      "metadata": {
        "colab": {
          "base_uri": "https://localhost:8080/"
        },
        "id": "pYHiE3zV4uoz",
        "outputId": "6b0ded5b-c9f3-486f-e496-a10a5fa4ebc1"
      },
      "execution_count": 7,
      "outputs": [
        {
          "output_type": "stream",
          "name": "stdout",
          "text": [
            "{'nombre': 'Ana', 'edad': 17, 'materias': ['Educacion Fisica', 'Español']}\n"
          ]
        }
      ]
    },
    {
      "cell_type": "code",
      "source": [
        "print(estudiante.keys())\n",
        "print(estudiante.values())\n",
        "print(estudiante.items()) #print(estudiante)\n",
        "\n",
        "estudiante.update({\"nombre\": \"Maria\", \"edad\": 18, \"materias\" : [\"Ingles\"]} )\n",
        "print(estudiante)"
      ],
      "metadata": {
        "colab": {
          "base_uri": "https://localhost:8080/"
        },
        "id": "yAdu1s1h5bUf",
        "outputId": "1b6ebda7-c6f3-414d-9b2a-8835edde7ace"
      },
      "execution_count": 15,
      "outputs": [
        {
          "output_type": "stream",
          "name": "stdout",
          "text": [
            "dict_keys(['nombre', 'edad', 'materias'])\n",
            "dict_values(['Ana', 17, ['Educacion Fisica', 'Español']])\n",
            "dict_items([('nombre', 'Ana'), ('edad', 17), ('materias', ['Educacion Fisica', 'Español'])])\n",
            "{'nombre': 'Maria', 'edad': 18, 'materias': ['Ingles']}\n"
          ]
        }
      ]
    },
    {
      "cell_type": "code",
      "source": [
        "estudiante = {\n",
        "    \"nombre\": \"Ana\",\n",
        "    \"edad\": 16,\n",
        "    \"promedio\": 9.5\n",
        "}\n",
        "\n",
        "# Recorrer solo claves\n",
        "for clave in estudiante:\n",
        "    print(clave)\n",
        "\n",
        "# Recorrer claves y valores\n",
        "for clave, valor in estudiante.items():\n",
        "    print(f\"{clave}: {valor}\")\n",
        "\n",
        "for valor in estudiante.values():\n",
        "  print(valor)\n",
        "\n",
        "# Salida:\n",
        "# nombre: Ana\n",
        "# edad: 16\n",
        "# promedio: 9.5"
      ],
      "metadata": {
        "colab": {
          "base_uri": "https://localhost:8080/"
        },
        "id": "q2qNJsy-8Lsf",
        "outputId": "8381cf76-080d-4deb-fd48-6938a61bb018"
      },
      "execution_count": 20,
      "outputs": [
        {
          "output_type": "stream",
          "name": "stdout",
          "text": [
            "nombre\n",
            "edad\n",
            "promedio\n",
            "nombre: Ana\n",
            "edad: 16\n",
            "promedio: 9.5\n",
            "Ana\n",
            "16\n",
            "9.5\n"
          ]
        }
      ]
    },
    {
      "cell_type": "markdown",
      "source": [
        "*Practiquemos Diccionarios\n",
        "*Ejercicio: Base de Datos de Películas\n",
        "*Crea un diccionario para tu película favorita con:\n",
        "\n",
        "Título,\n",
        "Director,\n",
        "Año,\n",
        "Género,\n",
        "Calificación (1-10),\n",
        "Actores principales (lista),\n",
        "Luego imprime toda la información de forma clara\n"
      ],
      "metadata": {
        "id": "-fvJnZLJ97fO"
      }
    },
    {
      "cell_type": "code",
      "source": [
        "peliculas_favoritas = {\n",
        "    \"Titulo\": \"Lalaland\",\n",
        "    \"Director\": \"Damuen Chazelle\",\n",
        "    \"Año\": 2016,\n",
        "    \"Genero\":\"Romance\",\n",
        "    \"Calificacion\": \"10/10\",\n",
        "    \"Actor Principal\":[\"Ryan G.\", \"Emma S.\"]\n",
        "}\n",
        "\n",
        "for clave, valor in peliculas_favoritas.items():\n",
        "  print(f\"{clave}:{valor}\")\n",
        "print(\"\\n--valores\")\n",
        "for valor in peliculas_favoritas.values():\n",
        "  print(valor)\n",
        "print(\"\\n--claves\")\n",
        "for claves in peliculas_favoritas.keys():\n",
        "  print(claves)"
      ],
      "metadata": {
        "colab": {
          "base_uri": "https://localhost:8080/"
        },
        "id": "AF4tBqMA9511",
        "outputId": "c8431c32-ce3f-4f54-9220-da288208f4cd"
      },
      "execution_count": 36,
      "outputs": [
        {
          "output_type": "stream",
          "name": "stdout",
          "text": [
            "Titulo:Lalaland\n",
            "Director:Damuen Chazelle\n",
            "Año:2016\n",
            "Genero:Romance\n",
            "Calificacion:10/10\n",
            "Actor Principal:['Ryan G.', 'Emma S.']\n",
            "\n",
            "--valores\n",
            "Lalaland\n",
            "Damuen Chazelle\n",
            "2016\n",
            "Romance\n",
            "10/10\n",
            "['Ryan G.', 'Emma S.']\n",
            "\n",
            "--claves\n",
            "Titulo\n",
            "Director\n",
            "Año\n",
            "Genero\n",
            "Calificacion\n",
            "Actor Principal\n"
          ]
        }
      ]
    }
  ]
}